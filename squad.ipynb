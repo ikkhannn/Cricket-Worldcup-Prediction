{
 "cells": [
  {
   "cell_type": "code",
   "execution_count": 3,
   "metadata": {},
   "outputs": [],
   "source": [
    "# Import libraries\n",
    "import requests\n",
    "import urllib.request\n",
    "import time\n",
    "from bs4 import BeautifulSoup\n",
    "\n",
    "# Set the URL you want to webscrape from\n",
    "url = 'http://www.espncricinfo.com/icc-cricket-world-cup-2015/content/squad?object=509587'\n",
    "\n",
    "# Connect to the URL\n",
    "response = requests.get(url)\n",
    "\n",
    "# Parse HTML and save to BeautifulSoup object¶\n",
    "soup = BeautifulSoup(response.text, \"html.parser\")\n",
    "\n",
    "Squads_unfiltered = soup.findAll('a')[18:32]\n",
    "Squads_filtered=[]\n",
    "\n",
    "\n",
    "for i in Squads_unfiltered:\n",
    "    \n",
    "    link=i['href']\n",
    "    squad_url=\"http://www.espncricinfo.com\"+link\n",
    "    Squads_filtered.append(squad_url)\n",
    "\n",
    "\n",
    "# # To download the whole data set, let's do a for loop through all a tags\n",
    "# for i in range(36,len(soup.findAll('a'))+1): #'a' tags are for links\n",
    "#     one_a_tag = soup.findAll('a')[i]\n",
    "#     link = one_a_tag['href']\n",
    "#     download_url = 'http://web.mta.info/developers/'+ link\n",
    "#     urllib.request.urlretrieve(download_url,'./'+link[link.find('/turnstile_')+1:])\n",
    "#     time.sleep(1) #pause the code for a sec"
   ]
  },
  {
   "cell_type": "code",
   "execution_count": 4,
   "metadata": {},
   "outputs": [
    {
     "data": {
      "text/plain": [
       "['http://www.espncricinfo.com/icc-cricket-world-cup-2015/content/squad/814789.html',\n",
       " 'http://www.espncricinfo.com/icc-cricket-world-cup-2015/content/squad/819741.html',\n",
       " 'http://www.espncricinfo.com/icc-cricket-world-cup-2015/content/squad/816431.html',\n",
       " 'http://www.espncricinfo.com/icc-cricket-world-cup-2015/content/squad/812413.html',\n",
       " 'http://www.espncricinfo.com/icc-cricket-world-cup-2015/content/squad/817409.html',\n",
       " 'http://www.espncricinfo.com/icc-cricket-world-cup-2015/content/squad/816765.html',\n",
       " 'http://www.espncricinfo.com/icc-cricket-world-cup-2015/content/squad/818117.html',\n",
       " 'http://www.espncricinfo.com/icc-cricket-world-cup-2015/content/squad/817901.html',\n",
       " 'http://www.espncricinfo.com/icc-cricket-world-cup-2015/content/squad/818887.html',\n",
       " 'http://www.espncricinfo.com/icc-cricket-world-cup-2015/content/squad/817889.html',\n",
       " 'http://www.espncricinfo.com/icc-cricket-world-cup-2015/content/squad/817899.html',\n",
       " 'http://www.espncricinfo.com/icc-cricket-world-cup-2015/content/squad/819825.html',\n",
       " 'http://www.espncricinfo.com/icc-cricket-world-cup-2015/content/squad/819743.html',\n",
       " 'http://www.espncricinfo.com/icc-cricket-world-cup-2015/content/squad/817903.html']"
      ]
     },
     "execution_count": 4,
     "metadata": {},
     "output_type": "execute_result"
    }
   ],
   "source": [
    "Squads_filtered"
   ]
  },
  {
   "cell_type": "markdown",
   "metadata": {},
   "source": [
    "### Getting players from individual squad"
   ]
  },
  {
   "cell_type": "code",
   "execution_count": 5,
   "metadata": {},
   "outputs": [],
   "source": [
    "all_players=[]"
   ]
  },
  {
   "cell_type": "code",
   "execution_count": 6,
   "metadata": {},
   "outputs": [],
   "source": [
    "url=Squads_filtered[0]\n",
    "response = requests.get(url)\n",
    "\n",
    "# Parse HTML and save to BeautifulSoup object¶\n",
    "soup = BeautifulSoup(response.text, \"html.parser\")\n",
    "players_unfiltered=soup.findAll('a')[52:84:2]\n",
    "Afghanistan=[]\n",
    "for i in players_unfiltered:\n",
    "    link=i['href']\n",
    "    player_url=\"http://www.espncricinfo.com\"+link\n",
    "    Afghanistan.append(player_url)\n",
    "\n",
    "for each_player in Afghanistan:\n",
    "    url=each_player[0]\n",
    "    \n",
    "    response=requests.get(url)\n",
    "    \n",
    "    soup=BeautifulSoup(response.text,\"html.parser\")\n",
    "    \n",
    "    \n"
   ]
  },
  {
   "cell_type": "code",
   "execution_count": 7,
   "metadata": {},
   "outputs": [],
   "source": [
    "url=Squads_filtered[1]\n",
    "response = requests.get(url)\n",
    "\n",
    "# Parse HTML and save to BeautifulSoup object¶\n",
    "soup = BeautifulSoup(response.text, \"html.parser\")\n",
    "players_unfiltered=soup.findAll('a')[52:82:2]\n",
    "Australia=[]\n",
    "\n",
    "players_unfiltered\n",
    "for i in players_unfiltered:\n",
    "    link=i['href']\n",
    "    player_url=\"http://www.espncricinfo.com\"+link\n",
    "    Australia.append(player_url)\n",
    "    "
   ]
  },
  {
   "cell_type": "code",
   "execution_count": 8,
   "metadata": {},
   "outputs": [],
   "source": [
    "url=Squads_filtered[2]\n",
    "response = requests.get(url)\n",
    "\n",
    "# Parse HTML and save to BeautifulSoup object¶\n",
    "soup = BeautifulSoup(response.text, \"html.parser\")\n",
    "players_unfiltered=soup.findAll('a')[52:84:2]\n",
    "Bangladesh=[]\n",
    "\n",
    "players_unfiltered\n",
    "for i in players_unfiltered:\n",
    "    link=i['href']\n",
    "    player_url=\"http://www.espncricinfo.com\"+link\n",
    "    Bangladesh.append(player_url)"
   ]
  },
  {
   "cell_type": "code",
   "execution_count": 9,
   "metadata": {},
   "outputs": [],
   "source": [
    "url=Squads_filtered[3]\n",
    "response = requests.get(url)\n",
    "\n",
    "# Parse HTML and save to BeautifulSoup object¶\n",
    "soup = BeautifulSoup(response.text, \"html.parser\")\n",
    "players_unfiltered=soup.findAll('a')[52:82:2]\n",
    "England=[]\n",
    "\n",
    "players_unfiltered\n",
    "for i in players_unfiltered:\n",
    "    link=i['href']\n",
    "    player_url=\"http://www.espncricinfo.com\"+link\n",
    "    England.append(player_url)"
   ]
  },
  {
   "cell_type": "code",
   "execution_count": 10,
   "metadata": {},
   "outputs": [],
   "source": [
    "url=Squads_filtered[4]\n",
    "response = requests.get(url)\n",
    "\n",
    "# Parse HTML and save to BeautifulSoup object¶\n",
    "soup = BeautifulSoup(response.text, \"html.parser\")\n",
    "players_unfiltered=soup.findAll('a')[52:84:2]\n",
    "India=[]\n",
    "\n",
    "players_unfiltered\n",
    "for i in players_unfiltered:\n",
    "    link=i['href']\n",
    "    player_url=\"http://www.espncricinfo.com\"+link\n",
    "    India.append(player_url)"
   ]
  },
  {
   "cell_type": "code",
   "execution_count": 11,
   "metadata": {},
   "outputs": [],
   "source": [
    "url=Squads_filtered[5]\n",
    "response = requests.get(url)\n",
    "\n",
    "# Parse HTML and save to BeautifulSoup object¶\n",
    "soup = BeautifulSoup(response.text, \"html.parser\")\n",
    "players_unfiltered=soup.findAll('a')[52:84:2]\n",
    "Ireland=[]\n",
    "\n",
    "players_unfiltered\n",
    "for i in players_unfiltered:\n",
    "    link=i['href']\n",
    "    player_url=\"http://www.espncricinfo.com\"+link\n",
    "    Ireland.append(player_url)"
   ]
  },
  {
   "cell_type": "code",
   "execution_count": 12,
   "metadata": {},
   "outputs": [],
   "source": [
    "url=Squads_filtered[6]\n",
    "response = requests.get(url)\n",
    "\n",
    "# Parse HTML and save to BeautifulSoup object¶\n",
    "soup = BeautifulSoup(response.text, \"html.parser\")\n",
    "players_unfiltered=soup.findAll('a')[52:84:2]\n",
    "Newzealand=[]\n",
    "\n",
    "players_unfiltered\n",
    "for i in players_unfiltered:\n",
    "    link=i['href']\n",
    "    player_url=\"http://www.espncricinfo.com\"+link\n",
    "    Newzealand.append(player_url)"
   ]
  },
  {
   "cell_type": "code",
   "execution_count": 13,
   "metadata": {},
   "outputs": [],
   "source": [
    "url=Squads_filtered[7]\n",
    "response = requests.get(url)\n",
    "\n",
    "# Parse HTML and save to BeautifulSoup object¶\n",
    "soup = BeautifulSoup(response.text, \"html.parser\")\n",
    "players_unfiltered=soup.findAll('a')[52:86:2]\n",
    "Pakistan=[]\n",
    "\n",
    "players_unfiltered\n",
    "for i in players_unfiltered:\n",
    "    link=i['href']\n",
    "    player_url=\"http://www.espncricinfo.com\"+link\n",
    "    Pakistan.append(player_url)"
   ]
  },
  {
   "cell_type": "code",
   "execution_count": 14,
   "metadata": {},
   "outputs": [],
   "source": [
    "url=Squads_filtered[8]\n",
    "response = requests.get(url)\n",
    "\n",
    "# Parse HTML and save to BeautifulSoup object¶\n",
    "soup = BeautifulSoup(response.text, \"html.parser\")\n",
    "players_unfiltered=soup.findAll('a')[52:82:2]\n",
    "Scotland=[]\n",
    "\n",
    "players_unfiltered\n",
    "for i in players_unfiltered:\n",
    "    link=i['href']\n",
    "    player_url=\"http://www.espncricinfo.com\"+link\n",
    "    Scotland.append(player_url)"
   ]
  },
  {
   "cell_type": "code",
   "execution_count": 15,
   "metadata": {},
   "outputs": [],
   "source": [
    "url=Squads_filtered[9]\n",
    "response = requests.get(url)\n",
    "\n",
    "# Parse HTML and save to BeautifulSoup object¶\n",
    "soup = BeautifulSoup(response.text, \"html.parser\")\n",
    "players_unfiltered=soup.findAll('a')[52:82:2]\n",
    "SouthAfrica=[]\n",
    "\n",
    "players_unfiltered\n",
    "for i in players_unfiltered:\n",
    "    link=i['href']\n",
    "    player_url=\"http://www.espncricinfo.com\"+link\n",
    "    SouthAfrica.append(player_url)"
   ]
  },
  {
   "cell_type": "code",
   "execution_count": 16,
   "metadata": {},
   "outputs": [],
   "source": [
    "url=Squads_filtered[10]\n",
    "response = requests.get(url)\n",
    "\n",
    "# Parse HTML and save to BeautifulSoup object¶\n",
    "soup = BeautifulSoup(response.text, \"html.parser\")\n",
    "players_unfiltered=soup.findAll('a')[52:92:2]\n",
    "Srilanka=[]\n",
    "\n",
    "players_unfiltered\n",
    "for i in players_unfiltered:\n",
    "    link=i['href']\n",
    "    player_url=\"http://www.espncricinfo.com\"+link\n",
    "    Srilanka.append(player_url)"
   ]
  },
  {
   "cell_type": "code",
   "execution_count": 17,
   "metadata": {},
   "outputs": [],
   "source": [
    "url=Squads_filtered[11]\n",
    "response = requests.get(url)\n",
    "\n",
    "# Parse HTML and save to BeautifulSoup object¶\n",
    "soup = BeautifulSoup(response.text, \"html.parser\")\n",
    "players_unfiltered=soup.findAll('a')[52:82:2]\n",
    "UAE=[]\n",
    "\n",
    "players_unfiltered\n",
    "for i in players_unfiltered:\n",
    "    link=i['href']\n",
    "    player_url=\"http://www.espncricinfo.com\"+link\n",
    "    UAE.append(player_url)"
   ]
  },
  {
   "cell_type": "code",
   "execution_count": 18,
   "metadata": {},
   "outputs": [],
   "source": [
    "url=Squads_filtered[12]\n",
    "response = requests.get(url)\n",
    "\n",
    "# Parse HTML and save to BeautifulSoup object¶\n",
    "soup = BeautifulSoup(response.text, \"html.parser\")\n",
    "players_unfiltered=soup.findAll('a')[52:86:2]\n",
    "WestIndies=[]\n",
    "\n",
    "players_unfiltered\n",
    "for i in players_unfiltered:\n",
    "    link=i['href']\n",
    "    player_url=\"http://www.espncricinfo.com\"+link\n",
    "    WestIndies.append(player_url)"
   ]
  },
  {
   "cell_type": "code",
   "execution_count": 19,
   "metadata": {},
   "outputs": [],
   "source": [
    "url=Squads_filtered[13]\n",
    "response = requests.get(url)\n",
    "\n",
    "# Parse HTML and save to BeautifulSoup object¶\n",
    "soup = BeautifulSoup(response.text, \"html.parser\")\n",
    "players_unfiltered=soup.findAll('a')[52:82:2]\n",
    "Zimbabwe=[]\n",
    "\n",
    "players_unfiltered\n",
    "for i in players_unfiltered:\n",
    "    link=i['href']\n",
    "    player_url=\"http://www.espncricinfo.com\"+link\n",
    "    Zimbabwe.append(player_url)"
   ]
  },
  {
   "cell_type": "code",
   "execution_count": 20,
   "metadata": {},
   "outputs": [
    {
     "data": {
      "text/plain": [
       "[]"
      ]
     },
     "execution_count": 20,
     "metadata": {},
     "output_type": "execute_result"
    }
   ],
   "source": []
  },
  {
   "cell_type": "code",
   "execution_count": null,
   "metadata": {},
   "outputs": [],
   "source": []
  }
 ],
 "metadata": {
  "kernelspec": {
   "display_name": "Python 3",
   "language": "python",
   "name": "python3"
  },
  "language_info": {
   "codemirror_mode": {
    "name": "ipython",
    "version": 3
   },
   "file_extension": ".py",
   "mimetype": "text/x-python",
   "name": "python",
   "nbconvert_exporter": "python",
   "pygments_lexer": "ipython3",
   "version": "3.7.3"
  }
 },
 "nbformat": 4,
 "nbformat_minor": 2
}
